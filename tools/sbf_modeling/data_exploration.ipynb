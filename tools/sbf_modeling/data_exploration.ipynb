{
 "cells": [
  {
   "cell_type": "code",
   "execution_count": 21,
   "metadata": {},
   "outputs": [],
   "source": [
    "import pandas as pd\n",
    "import numpy as np"
   ]
  },
  {
   "cell_type": "code",
   "execution_count": 24,
   "metadata": {},
   "outputs": [],
   "source": [
    "df = pd.read_csv(\"/Users/xuhuizhou/Projects/context-sbf/data/inference_data/adversarial_contexts_statements/adv_contexts_explanations.csv\")"
   ]
  },
  {
   "cell_type": "code",
   "execution_count": 26,
   "metadata": {},
   "outputs": [
    {
     "name": "stdout",
     "output_type": "stream",
     "text": [
      "1088\n",
      "1088\n"
     ]
    }
   ],
   "source": [
    "df.rename(columns={\"speechContext\": \"situationalContext\"}, inplace=True)\n",
    "print(len(df))\n",
    "df.dropna()\n",
    "print(len(df))\n",
    "df.to_csv(\"/Users/xuhuizhou/Projects/context-sbf/data/inference_data/adversarial_contexts_statements/adv_contexts_explanations.csv\", index=False)"
   ]
  },
  {
   "cell_type": "code",
   "execution_count": 12,
   "metadata": {},
   "outputs": [
    {
     "data": {
      "text/plain": [
       "2070"
      ]
     },
     "execution_count": 12,
     "metadata": {},
     "output_type": "execute_result"
    }
   ],
   "source": [
    "df = pd.read_csv('/Users/xuhuizhou/Projects/context-sbf/data/inference_data/adversarial_contexts_statements/selfGen_contexts.csv')\n",
    "\n",
    "len(df)"
   ]
  },
  {
   "cell_type": "code",
   "execution_count": 20,
   "metadata": {},
   "outputs": [
    {
     "data": {
      "text/plain": [
       "688"
      ]
     },
     "execution_count": 20,
     "metadata": {},
     "output_type": "execute_result"
    }
   ],
   "source": [
    "df['offensive_speakerIdentity'].str.contains('boss|manager|Boss|Manager|supervisor').sum()"
   ]
  },
  {
   "cell_type": "code",
   "execution_count": 19,
   "metadata": {},
   "outputs": [
    {
     "ename": "TypeError",
     "evalue": "bad operand type for unary ~: 'float'",
     "output_type": "error",
     "traceback": [
      "\u001b[0;31m---------------------------------------------------------------------------\u001b[0m",
      "\u001b[0;31mTypeError\u001b[0m                                 Traceback (most recent call last)",
      "\u001b[1;32m/Users/xuhuizhou/Projects/context-sbf/tools/sbf_modeling/data_exploration.ipynb Cell 5\u001b[0m in \u001b[0;36m<cell line: 1>\u001b[0;34m()\u001b[0m\n\u001b[0;32m----> <a href='vscode-notebook-cell:/Users/xuhuizhou/Projects/context-sbf/tools/sbf_modeling/data_exploration.ipynb#X35sZmlsZQ%3D%3D?line=0'>1</a>\u001b[0m df_non_boss \u001b[39m=\u001b[39m df[\u001b[39m~\u001b[39;49mdf[\u001b[39m'\u001b[39;49m\u001b[39moffensive_speakerIdentity\u001b[39;49m\u001b[39m'\u001b[39;49m]\u001b[39m.\u001b[39;49mstr\u001b[39m.\u001b[39;49mcontains(\u001b[39m'\u001b[39;49m\u001b[39mboss|manager|Boss|Manager|supervisor|Supervisor\u001b[39;49m\u001b[39m'\u001b[39;49m)]\n\u001b[1;32m      <a href='vscode-notebook-cell:/Users/xuhuizhou/Projects/context-sbf/tools/sbf_modeling/data_exploration.ipynb#X35sZmlsZQ%3D%3D?line=1'>2</a>\u001b[0m df_boss \u001b[39m=\u001b[39m df[df[\u001b[39m'\u001b[39m\u001b[39moffensive_speakerIdentity\u001b[39m\u001b[39m'\u001b[39m]\u001b[39m.\u001b[39mstr\u001b[39m.\u001b[39mcontains(\u001b[39m'\u001b[39m\u001b[39mboss|manager|Boss|Manager|supervisor|Supervisor\u001b[39m\u001b[39m'\u001b[39m)]\n",
      "File \u001b[0;32m~/miniconda3/envs/context-sbf/lib/python3.8/site-packages/pandas/core/generic.py:1522\u001b[0m, in \u001b[0;36mNDFrame.__invert__\u001b[0;34m(self)\u001b[0m\n\u001b[1;32m   1518\u001b[0m \u001b[39mif\u001b[39;00m \u001b[39mnot\u001b[39;00m \u001b[39mself\u001b[39m\u001b[39m.\u001b[39msize:\n\u001b[1;32m   1519\u001b[0m     \u001b[39m# inv fails with 0 len\u001b[39;00m\n\u001b[1;32m   1520\u001b[0m     \u001b[39mreturn\u001b[39;00m \u001b[39mself\u001b[39m\n\u001b[0;32m-> 1522\u001b[0m new_data \u001b[39m=\u001b[39m \u001b[39mself\u001b[39;49m\u001b[39m.\u001b[39;49m_mgr\u001b[39m.\u001b[39;49mapply(operator\u001b[39m.\u001b[39;49minvert)\n\u001b[1;32m   1523\u001b[0m \u001b[39mreturn\u001b[39;00m \u001b[39mself\u001b[39m\u001b[39m.\u001b[39m_constructor(new_data)\u001b[39m.\u001b[39m__finalize__(\u001b[39mself\u001b[39m, method\u001b[39m=\u001b[39m\u001b[39m\"\u001b[39m\u001b[39m__invert__\u001b[39m\u001b[39m\"\u001b[39m)\n",
      "File \u001b[0;32m~/miniconda3/envs/context-sbf/lib/python3.8/site-packages/pandas/core/internals/managers.py:302\u001b[0m, in \u001b[0;36mBaseBlockManager.apply\u001b[0;34m(self, f, align_keys, ignore_failures, **kwargs)\u001b[0m\n\u001b[1;32m    300\u001b[0m \u001b[39mtry\u001b[39;00m:\n\u001b[1;32m    301\u001b[0m     \u001b[39mif\u001b[39;00m callable(f):\n\u001b[0;32m--> 302\u001b[0m         applied \u001b[39m=\u001b[39m b\u001b[39m.\u001b[39;49mapply(f, \u001b[39m*\u001b[39;49m\u001b[39m*\u001b[39;49mkwargs)\n\u001b[1;32m    303\u001b[0m     \u001b[39melse\u001b[39;00m:\n\u001b[1;32m    304\u001b[0m         applied \u001b[39m=\u001b[39m \u001b[39mgetattr\u001b[39m(b, f)(\u001b[39m*\u001b[39m\u001b[39m*\u001b[39mkwargs)\n",
      "File \u001b[0;32m~/miniconda3/envs/context-sbf/lib/python3.8/site-packages/pandas/core/internals/blocks.py:402\u001b[0m, in \u001b[0;36mBlock.apply\u001b[0;34m(self, func, **kwargs)\u001b[0m\n\u001b[1;32m    396\u001b[0m \u001b[39m@final\u001b[39m\n\u001b[1;32m    397\u001b[0m \u001b[39mdef\u001b[39;00m \u001b[39mapply\u001b[39m(\u001b[39mself\u001b[39m, func, \u001b[39m*\u001b[39m\u001b[39m*\u001b[39mkwargs) \u001b[39m-\u001b[39m\u001b[39m>\u001b[39m \u001b[39mlist\u001b[39m[Block]:\n\u001b[1;32m    398\u001b[0m     \u001b[39m\"\"\"\u001b[39;00m\n\u001b[1;32m    399\u001b[0m \u001b[39m    apply the function to my values; return a block if we are not\u001b[39;00m\n\u001b[1;32m    400\u001b[0m \u001b[39m    one\u001b[39;00m\n\u001b[1;32m    401\u001b[0m \u001b[39m    \"\"\"\u001b[39;00m\n\u001b[0;32m--> 402\u001b[0m     result \u001b[39m=\u001b[39m func(\u001b[39mself\u001b[39;49m\u001b[39m.\u001b[39;49mvalues, \u001b[39m*\u001b[39;49m\u001b[39m*\u001b[39;49mkwargs)\n\u001b[1;32m    404\u001b[0m     \u001b[39mreturn\u001b[39;00m \u001b[39mself\u001b[39m\u001b[39m.\u001b[39m_split_op_result(result)\n",
      "\u001b[0;31mTypeError\u001b[0m: bad operand type for unary ~: 'float'"
     ]
    }
   ],
   "source": [
    "df_non_boss = df[~df['offensive_speakerIdentity'].str.contains('boss|manager|Boss|Manager|supervisor|Supervisor')]\n",
    "df_boss = df[df['offensive_speakerIdentity'].str.contains('boss|manager|Boss|Manager|supervisor|Supervisor')]"
   ]
  },
  {
   "cell_type": "code",
   "execution_count": 8,
   "metadata": {},
   "outputs": [
    {
     "data": {
      "text/plain": [
       "490"
      ]
     },
     "execution_count": 8,
     "metadata": {},
     "output_type": "execute_result"
    }
   ],
   "source": [
    "len(df['statement'].unique())"
   ]
  },
  {
   "cell_type": "code",
   "execution_count": 9,
   "metadata": {},
   "outputs": [
    {
     "data": {
      "text/plain": [
       "988"
      ]
     },
     "execution_count": 9,
     "metadata": {},
     "output_type": "execute_result"
    }
   ],
   "source": [
    "df.fillna('none', inplace=True)\n",
    "len(df)"
   ]
  },
  {
   "cell_type": "code",
   "execution_count": 10,
   "metadata": {},
   "outputs": [],
   "source": [
    "df.to_csv('~/Downloads/mAgr_contexts_explanations.csv', index=False)"
   ]
  },
  {
   "cell_type": "code",
   "execution_count": 20,
   "metadata": {},
   "outputs": [],
   "source": [
    "def get_offensiveness_binary(data):\n",
    "    data.fillna(' ', inplace = True)\n",
    "    off_data = data['offensiveness']\n",
    "    offensive = []\n",
    "    for i, row in enumerate(off_data.str.split(',', expand=False)):\n",
    "        #if not isinstance(row, float):\n",
    "        offensive.append(row[0])\n",
    "            \n",
    "    offensive = list(map(lambda x: x.lstrip().lower(), offensive))\n",
    "    \n",
    "    offensive = list(map(lambda x: x.replace('very ', ''), offensive))\n",
    "    offensive = list(map(lambda x: x.replace('highly ', ''), offensive))\n",
    "    offensive = list(map(lambda x: x.replace('extremely ', ''), offensive))\n",
    "    \n",
    "    for i, off in enumerate(offensive):\n",
    "        if 'anti-sem' in off:\n",
    "            offensive[i] = 'anti-semitic'\n",
    "        if 'none' in off or 'not offensive' in off or \\\n",
    "             'not necessarily offensive' in off or 'n/a' in off or \\\n",
    "             'not applicable' in off:\n",
    "            offensive[i] = 'not offensive'\n",
    "        if 'ableis' in off:\n",
    "            offensive[i] = 'ableist'\n",
    "        if 'racis' in off:\n",
    "            offensive[i] = 'racist'\n",
    "        if 'stereotype' in off:\n",
    "            offensive[i] = 'offensive stereotype'\n",
    "\n",
    "    off_binary = (np.array(offensive) != 'not offensive').astype(int)\n",
    "    return off_binary\n",
    "    "
   ]
  },
  {
   "cell_type": "code",
   "execution_count": 21,
   "metadata": {},
   "outputs": [],
   "source": [
    "off_binary = get_offensiveness_binary(df)\n",
    "df['offensive_binary'] = off_binary"
   ]
  },
  {
   "cell_type": "code",
   "execution_count": 22,
   "metadata": {},
   "outputs": [
    {
     "data": {
      "text/plain": [
       "1    29032\n",
       "0     3550\n",
       "Name: offensive_binary, dtype: int64"
      ]
     },
     "execution_count": 22,
     "metadata": {},
     "output_type": "execute_result"
    }
   ],
   "source": [
    "df['offensive_binary'].value_counts()"
   ]
  },
  {
   "cell_type": "code",
   "execution_count": 28,
   "metadata": {},
   "outputs": [],
   "source": [
    "df_nontoxic = df[df['offensive_binary']==0]\n",
    "non_toxic_statements = set(df_nontoxic['statement'].values)\n",
    "df_nontoxic_related = df.groupby(\"statement\").filter(\n",
    "            lambda x: x[\"statement\"].values[0] in non_toxic_statements\n",
    "        )"
   ]
  },
  {
   "cell_type": "code",
   "execution_count": 30,
   "metadata": {},
   "outputs": [
    {
     "data": {
      "text/plain": [
       "5678"
      ]
     },
     "execution_count": 30,
     "metadata": {},
     "output_type": "execute_result"
    }
   ],
   "source": [
    "len(df_nontoxic_related)\n"
   ]
  },
  {
   "cell_type": "code",
   "execution_count": 31,
   "metadata": {},
   "outputs": [],
   "source": [
    "df_nontoxic_related.to_csv('/Users/xuhuizhou/Projects/context-sbf/data/inference_data/toxigen_explanations_v2/toxigen_explanations_nontoxic.csv', index=False)"
   ]
  },
  {
   "cell_type": "code",
   "execution_count": 29,
   "metadata": {},
   "outputs": [],
   "source": [
    "df = pd.read_csv('/Users/xuhuizhou/Projects/context-sbf/data/inference_data/adversarial_contexts_statements/mAgr_contexts.csv')"
   ]
  },
  {
   "cell_type": "code",
   "execution_count": 30,
   "metadata": {},
   "outputs": [
    {
     "name": "stdout",
     "output_type": "stream",
     "text": [
      "1522\n",
      "0\n",
      "0\n",
      "0\n",
      "0\n",
      "0\n",
      "harmless_situationalContext\n",
      "63\n",
      "harmless_speakerIdentity\n",
      "63\n",
      "harmless_listenerIdentity\n",
      "63\n",
      "offensive_situationalContext\n",
      "65\n",
      "offensive_speakerIdentity\n",
      "65\n",
      "offensive_listenerIdentity\n",
      "65\n"
     ]
    }
   ],
   "source": [
    "# remove rows have the none values\n",
    "print(len(df))\n",
    "df = df.dropna()\n",
    "Na_list = []\n",
    "for col in df.columns:\n",
    "    if col.split('_')[0] in ['harmless', 'offensive']:\n",
    "        print(col)\n",
    "        if Na_list==[]:\n",
    "            Na_list = df[col].str.contains('none|N/A', case=False).tolist()\n",
    "        else:\n",
    "            Na_list = [x or y for x, y in zip(Na_list, df[col].str.contains('none|N/A', case=False).tolist())]\n",
    "    print(sum(Na_list))\n",
    "df = df[~np.array(Na_list)]\n",
    "df.to_csv('/Users/xuhuizhou/Projects/context-sbf/data/inference_data/adversarial_contexts_statements/mAgr_contexts_cleaned.csv', index=False)\n"
   ]
  },
  {
   "attachments": {},
   "cell_type": "markdown",
   "metadata": {},
   "source": [
    "## Transform the adversarial examples into a normal format"
   ]
  },
  {
   "cell_type": "code",
   "execution_count": 12,
   "metadata": {},
   "outputs": [
    {
     "name": "stdout",
     "output_type": "stream",
     "text": [
      "1272\n"
     ]
    }
   ],
   "source": [
    "df = pd.read_csv('/Users/xuhuizhou/Projects/context-sbf/data/inference_data/adversarial_contexts_statements/mAgr_contexts_cleaned.csv')\n",
    "print(len(df))"
   ]
  },
  {
   "cell_type": "code",
   "execution_count": 13,
   "metadata": {},
   "outputs": [
    {
     "name": "stderr",
     "output_type": "stream",
     "text": [
      "/var/folders/gx/1s72qn6d30qc9jq9tywjml2m0000gn/T/ipykernel_58145/1299909749.py:3: SettingWithCopyWarning: \n",
      "A value is trying to be set on a copy of a slice from a DataFrame.\n",
      "Try using .loc[row_indexer,col_indexer] = value instead\n",
      "\n",
      "See the caveats in the documentation: https://pandas.pydata.org/pandas-docs/stable/user_guide/indexing.html#returning-a-view-versus-a-copy\n",
      "  df_harmless['moreOff'] = [-1]*len(df_harmless)\n",
      "/var/folders/gx/1s72qn6d30qc9jq9tywjml2m0000gn/T/ipykernel_58145/1299909749.py:4: SettingWithCopyWarning: \n",
      "A value is trying to be set on a copy of a slice from a DataFrame\n",
      "\n",
      "See the caveats in the documentation: https://pandas.pydata.org/pandas-docs/stable/user_guide/indexing.html#returning-a-view-versus-a-copy\n",
      "  df_harmless.rename(columns={'harmless_situationalContext': 'situationalContext', 'harmless_speakerIdentity': 'speakerIdentity', 'harmless_listenerIdentity': 'listenerIdentity'}, inplace=True)\n",
      "/var/folders/gx/1s72qn6d30qc9jq9tywjml2m0000gn/T/ipykernel_58145/1299909749.py:7: SettingWithCopyWarning: \n",
      "A value is trying to be set on a copy of a slice from a DataFrame.\n",
      "Try using .loc[row_indexer,col_indexer] = value instead\n",
      "\n",
      "See the caveats in the documentation: https://pandas.pydata.org/pandas-docs/stable/user_guide/indexing.html#returning-a-view-versus-a-copy\n",
      "  df_offensive['moreOff'] = [1]*len(df_offensive)\n",
      "/var/folders/gx/1s72qn6d30qc9jq9tywjml2m0000gn/T/ipykernel_58145/1299909749.py:8: SettingWithCopyWarning: \n",
      "A value is trying to be set on a copy of a slice from a DataFrame\n",
      "\n",
      "See the caveats in the documentation: https://pandas.pydata.org/pandas-docs/stable/user_guide/indexing.html#returning-a-view-versus-a-copy\n",
      "  df_offensive.rename(columns={'offensive_situationalContext': 'situationalContext', 'offensive_speakerIdentity': 'speakerIdentity', 'offensive_listenerIdentity': 'listenerIdentity'}, inplace=True)\n"
     ]
    }
   ],
   "source": [
    "df_harmless = df[['caption','tags', 'quote', 'examples', 'statement', 'harmless_situationalContext', 'harmless_speakerIdentity', 'harmless_listenerIdentity']]\n",
    "df_offensive = df[['caption','tags', 'quote', 'examples', 'statement', 'offensive_situationalContext', 'offensive_speakerIdentity', 'offensive_listenerIdentity']]\n",
    "df_harmless['moreOff'] = [-1]*len(df_harmless)\n",
    "df_harmless.rename(columns={'harmless_situationalContext': 'situationalContext', 'harmless_speakerIdentity': 'speakerIdentity', 'harmless_listenerIdentity': 'listenerIdentity'}, inplace=True)\n",
    "df_harmless.index = df_harmless.index*2\n",
    "\n",
    "df_offensive['moreOff'] = [1]*len(df_offensive)\n",
    "df_offensive.rename(columns={'offensive_situationalContext': 'situationalContext', 'offensive_speakerIdentity': 'speakerIdentity', 'offensive_listenerIdentity': 'listenerIdentity'}, inplace=True)\n",
    "df_offensive.index = df_offensive.index*2+1\n",
    "\n",
    "df_overall = pd.concat([df_harmless, df_offensive]).sort_index()"
   ]
  },
  {
   "cell_type": "code",
   "execution_count": 14,
   "metadata": {},
   "outputs": [
    {
     "name": "stdout",
     "output_type": "stream",
     "text": [
      "2544\n"
     ]
    }
   ],
   "source": [
    "df_overall\n",
    "print(len(df_overall))\n",
    "df_overall.to_csv('/Users/xuhuizhou/Projects/context-sbf/data/inference_data/adversarial_contexts_statements/mAgr_contexts_single.csv', index=False)"
   ]
  },
  {
   "cell_type": "code",
   "execution_count": 3,
   "metadata": {},
   "outputs": [],
   "source": [
    "df_adv_mturk = pd.read_csv(\"/Users/xuhuizhou/Projects/context-sbf/data/mturk/advContexts/mturk_3.csv\")"
   ]
  },
  {
   "cell_type": "code",
   "execution_count": 4,
   "metadata": {},
   "outputs": [
    {
     "name": "stdout",
     "output_type": "stream",
     "text": [
      "0 0\n",
      "A2T11H7YI7QPGD\n",
      "0 0\n",
      "A2T11H7YI7QPGD\n",
      "0 0\n",
      "A2T11H7YI7QPGD\n",
      "0 0\n",
      "A2T11H7YI7QPGD\n",
      "0 0\n",
      "A2T11H7YI7QPGD\n",
      "0 0\n",
      "A2T11H7YI7QPGD\n",
      "0 0\n",
      "A2T11H7YI7QPGD\n",
      "0 0\n",
      "A2T11H7YI7QPGD\n",
      "0 0\n",
      "A2T11H7YI7QPGD\n",
      "1 1\n",
      "A2T11H7YI7QPGD\n",
      "0 0\n",
      "A2T11H7YI7QPGD\n",
      "1 1\n",
      "A2T11H7YI7QPGD\n",
      "0 0\n",
      "A2T11H7YI7QPGD\n",
      "0 0\n",
      "A2T11H7YI7QPGD\n",
      "0 1\n",
      "A2T11H7YI7QPGD\n",
      "1 1\n",
      "A2T11H7YI7QPGD\n",
      "0 0\n",
      "A2T11H7YI7QPGD\n",
      "0 0\n",
      "A2T11H7YI7QPGD\n",
      "0 0\n",
      "A2T11H7YI7QPGD\n",
      "0 0\n",
      "A2T11H7YI7QPGD\n",
      "0 0\n",
      "A2T11H7YI7QPGD\n",
      "1 1\n",
      "A2T11H7YI7QPGD\n",
      "0 0\n",
      "A2T11H7YI7QPGD\n",
      "1 1\n",
      "A2T11H7YI7QPGD\n",
      "0 1\n",
      "A2T11H7YI7QPGD\n",
      "0 0\n",
      "A2T11H7YI7QPGD\n",
      "0 0\n",
      "A2T11H7YI7QPGD\n",
      "0 0\n",
      "A2T11H7YI7QPGD\n"
     ]
    }
   ],
   "source": [
    "for i, j, k, id in zip(df_adv_mturk['Answer.harmlessOne'],df_adv_mturk['Answer.offensiveOne'], df_adv_mturk['Answer.moreOff'] , df_adv_mturk['WorkerId']):\n",
    "    if (i==j and (i==1 or i==0)) or (i==k):\n",
    "        print(i,j)\n",
    "        print(id)"
   ]
  }
 ],
 "metadata": {
  "kernelspec": {
   "display_name": "Python 3.8.13 ('context-sbf')",
   "language": "python",
   "name": "python3"
  },
  "language_info": {
   "codemirror_mode": {
    "name": "ipython",
    "version": 3
   },
   "file_extension": ".py",
   "mimetype": "text/x-python",
   "name": "python",
   "nbconvert_exporter": "python",
   "pygments_lexer": "ipython3",
   "version": "3.8.13"
  },
  "orig_nbformat": 4,
  "vscode": {
   "interpreter": {
    "hash": "a6d121575a8ec75d1da765bafdcda4dc8ce9d5828250d3ae61b2c01566c57469"
   }
  }
 },
 "nbformat": 4,
 "nbformat_minor": 2
}
