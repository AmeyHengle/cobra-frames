{
 "cells": [
  {
   "cell_type": "code",
   "execution_count": 9,
   "metadata": {},
   "outputs": [],
   "source": [
    "import pandas as pd\n",
    "import numpy as np"
   ]
  },
  {
   "cell_type": "code",
   "execution_count": 10,
   "metadata": {},
   "outputs": [
    {
     "data": {
      "text/plain": [
       "32582"
      ]
     },
     "execution_count": 10,
     "metadata": {},
     "output_type": "execute_result"
    }
   ],
   "source": [
    "df = pd.read_csv('/Users/xuhuizhou/Projects/context-sbf/data/inference_data/toxigen_explanations_v2/toxigen_explanations.csv')\n",
    "len(df)"
   ]
  },
  {
   "cell_type": "code",
   "execution_count": 20,
   "metadata": {},
   "outputs": [],
   "source": [
    "def get_offensiveness_binary(data):\n",
    "    data.fillna(' ', inplace = True)\n",
    "    off_data = data['offensiveness']\n",
    "    offensive = []\n",
    "    for i, row in enumerate(off_data.str.split(',', expand=False)):\n",
    "        #if not isinstance(row, float):\n",
    "        offensive.append(row[0])\n",
    "            \n",
    "    offensive = list(map(lambda x: x.lstrip().lower(), offensive))\n",
    "    \n",
    "    offensive = list(map(lambda x: x.replace('very ', ''), offensive))\n",
    "    offensive = list(map(lambda x: x.replace('highly ', ''), offensive))\n",
    "    offensive = list(map(lambda x: x.replace('extremely ', ''), offensive))\n",
    "    \n",
    "    for i, off in enumerate(offensive):\n",
    "        if 'anti-sem' in off:\n",
    "            offensive[i] = 'anti-semitic'\n",
    "        if 'none' in off or 'not offensive' in off or \\\n",
    "             'not necessarily offensive' in off or 'n/a' in off or \\\n",
    "             'not applicable' in off:\n",
    "            offensive[i] = 'not offensive'\n",
    "        if 'ableis' in off:\n",
    "            offensive[i] = 'ableist'\n",
    "        if 'racis' in off:\n",
    "            offensive[i] = 'racist'\n",
    "        if 'stereotype' in off:\n",
    "            offensive[i] = 'offensive stereotype'\n",
    "\n",
    "    off_binary = (np.array(offensive) != 'not offensive').astype(int)\n",
    "    return off_binary\n",
    "    "
   ]
  },
  {
   "cell_type": "code",
   "execution_count": 21,
   "metadata": {},
   "outputs": [],
   "source": [
    "off_binary = get_offensiveness_binary(df)\n",
    "df['offensive_binary'] = off_binary"
   ]
  },
  {
   "cell_type": "code",
   "execution_count": 22,
   "metadata": {},
   "outputs": [
    {
     "data": {
      "text/plain": [
       "1    29032\n",
       "0     3550\n",
       "Name: offensive_binary, dtype: int64"
      ]
     },
     "execution_count": 22,
     "metadata": {},
     "output_type": "execute_result"
    }
   ],
   "source": [
    "df['offensive_binary'].value_counts()"
   ]
  },
  {
   "cell_type": "code",
   "execution_count": 28,
   "metadata": {},
   "outputs": [],
   "source": [
    "df_nontoxic = df[df['offensive_binary']==0]\n",
    "non_toxic_statements = set(df_nontoxic['statement'].values)\n",
    "df_nontoxic_related = df.groupby(\"statement\").filter(\n",
    "            lambda x: x[\"statement\"].values[0] in non_toxic_statements\n",
    "        )"
   ]
  },
  {
   "cell_type": "code",
   "execution_count": 30,
   "metadata": {},
   "outputs": [
    {
     "data": {
      "text/plain": [
       "5678"
      ]
     },
     "execution_count": 30,
     "metadata": {},
     "output_type": "execute_result"
    }
   ],
   "source": [
    "len(df_nontoxic_related)\n"
   ]
  },
  {
   "cell_type": "code",
   "execution_count": 31,
   "metadata": {},
   "outputs": [],
   "source": [
    "df_nontoxic_related.to_csv('/Users/xuhuizhou/Projects/context-sbf/data/inference_data/toxigen_explanations_v2/toxigen_explanations_nontoxic.csv', index=False)"
   ]
  }
 ],
 "metadata": {
  "kernelspec": {
   "display_name": "context-sbf",
   "language": "python",
   "name": "python3"
  },
  "language_info": {
   "codemirror_mode": {
    "name": "ipython",
    "version": 3
   },
   "file_extension": ".py",
   "mimetype": "text/x-python",
   "name": "python",
   "nbconvert_exporter": "python",
   "pygments_lexer": "ipython3",
   "version": "3.8.13 (default, Mar 28 2022, 06:13:39) \n[Clang 12.0.0 ]"
  },
  "orig_nbformat": 4,
  "vscode": {
   "interpreter": {
    "hash": "cfcba67759185d96306f27692b74f6f94b9c2bac5622b355ba2531a4458ccf28"
   }
  }
 },
 "nbformat": 4,
 "nbformat_minor": 2
}
