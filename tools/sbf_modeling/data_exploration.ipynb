{
 "cells": [
  {
   "cell_type": "code",
   "execution_count": 1,
   "metadata": {},
   "outputs": [],
   "source": [
    "import pandas as pd\n",
    "import numpy as np"
   ]
  },
  {
   "cell_type": "code",
   "execution_count": 43,
   "metadata": {},
   "outputs": [
    {
     "data": {
      "text/plain": [
       "31582"
      ]
     },
     "execution_count": 43,
     "metadata": {},
     "output_type": "execute_result"
    }
   ],
   "source": [
    "df = pd.read_csv('/Users/xuhuizhou/Projects/context-sbf/data/inference_data/toxigen_explanations_v2/toxigen_explanations_train.csv')\n",
    "len(df)"
   ]
  },
  {
   "cell_type": "code",
   "execution_count": 44,
   "metadata": {},
   "outputs": [
    {
     "data": {
      "text/plain": [
       "31582"
      ]
     },
     "execution_count": 44,
     "metadata": {},
     "output_type": "execute_result"
    }
   ],
   "source": [
    "df.fillna('none', inplace=True)\n",
    "len(df)"
   ]
  },
  {
   "cell_type": "code",
   "execution_count": 45,
   "metadata": {},
   "outputs": [],
   "source": [
    "df.to_csv('/Users/xuhuizhou/Projects/context-sbf/data/inference_data/toxigen_explanations_v2/toxigen_explanations_train.csv', index=False)"
   ]
  },
  {
   "cell_type": "code",
   "execution_count": 20,
   "metadata": {},
   "outputs": [],
   "source": [
    "def get_offensiveness_binary(data):\n",
    "    data.fillna(' ', inplace = True)\n",
    "    off_data = data['offensiveness']\n",
    "    offensive = []\n",
    "    for i, row in enumerate(off_data.str.split(',', expand=False)):\n",
    "        #if not isinstance(row, float):\n",
    "        offensive.append(row[0])\n",
    "            \n",
    "    offensive = list(map(lambda x: x.lstrip().lower(), offensive))\n",
    "    \n",
    "    offensive = list(map(lambda x: x.replace('very ', ''), offensive))\n",
    "    offensive = list(map(lambda x: x.replace('highly ', ''), offensive))\n",
    "    offensive = list(map(lambda x: x.replace('extremely ', ''), offensive))\n",
    "    \n",
    "    for i, off in enumerate(offensive):\n",
    "        if 'anti-sem' in off:\n",
    "            offensive[i] = 'anti-semitic'\n",
    "        if 'none' in off or 'not offensive' in off or \\\n",
    "             'not necessarily offensive' in off or 'n/a' in off or \\\n",
    "             'not applicable' in off:\n",
    "            offensive[i] = 'not offensive'\n",
    "        if 'ableis' in off:\n",
    "            offensive[i] = 'ableist'\n",
    "        if 'racis' in off:\n",
    "            offensive[i] = 'racist'\n",
    "        if 'stereotype' in off:\n",
    "            offensive[i] = 'offensive stereotype'\n",
    "\n",
    "    off_binary = (np.array(offensive) != 'not offensive').astype(int)\n",
    "    return off_binary\n",
    "    "
   ]
  },
  {
   "cell_type": "code",
   "execution_count": 21,
   "metadata": {},
   "outputs": [],
   "source": [
    "off_binary = get_offensiveness_binary(df)\n",
    "df['offensive_binary'] = off_binary"
   ]
  },
  {
   "cell_type": "code",
   "execution_count": 22,
   "metadata": {},
   "outputs": [
    {
     "data": {
      "text/plain": [
       "1    29032\n",
       "0     3550\n",
       "Name: offensive_binary, dtype: int64"
      ]
     },
     "execution_count": 22,
     "metadata": {},
     "output_type": "execute_result"
    }
   ],
   "source": [
    "df['offensive_binary'].value_counts()"
   ]
  },
  {
   "cell_type": "code",
   "execution_count": 28,
   "metadata": {},
   "outputs": [],
   "source": [
    "df_nontoxic = df[df['offensive_binary']==0]\n",
    "non_toxic_statements = set(df_nontoxic['statement'].values)\n",
    "df_nontoxic_related = df.groupby(\"statement\").filter(\n",
    "            lambda x: x[\"statement\"].values[0] in non_toxic_statements\n",
    "        )"
   ]
  },
  {
   "cell_type": "code",
   "execution_count": 30,
   "metadata": {},
   "outputs": [
    {
     "data": {
      "text/plain": [
       "5678"
      ]
     },
     "execution_count": 30,
     "metadata": {},
     "output_type": "execute_result"
    }
   ],
   "source": [
    "len(df_nontoxic_related)\n"
   ]
  },
  {
   "cell_type": "code",
   "execution_count": 31,
   "metadata": {},
   "outputs": [],
   "source": [
    "df_nontoxic_related.to_csv('/Users/xuhuizhou/Projects/context-sbf/data/inference_data/toxigen_explanations_v2/toxigen_explanations_nontoxic.csv', index=False)"
   ]
  },
  {
   "cell_type": "code",
   "execution_count": 29,
   "metadata": {},
   "outputs": [],
   "source": [
    "df = pd.read_csv('/Users/xuhuizhou/Projects/context-sbf/data/inference_data/adversarial_contexts_statements/mAgr_contexts.csv')"
   ]
  },
  {
   "cell_type": "code",
   "execution_count": 30,
   "metadata": {},
   "outputs": [
    {
     "name": "stdout",
     "output_type": "stream",
     "text": [
      "1522\n",
      "0\n",
      "0\n",
      "0\n",
      "0\n",
      "0\n",
      "harmless_situationalContext\n",
      "63\n",
      "harmless_speakerIdentity\n",
      "63\n",
      "harmless_listenerIdentity\n",
      "63\n",
      "offensive_situationalContext\n",
      "65\n",
      "offensive_speakerIdentity\n",
      "65\n",
      "offensive_listenerIdentity\n",
      "65\n"
     ]
    }
   ],
   "source": [
    "# remove rows have the none values\n",
    "print(len(df))\n",
    "df = df.dropna()\n",
    "Na_list = []\n",
    "for col in df.columns:\n",
    "    if col.split('_')[0] in ['harmless', 'offensive']:\n",
    "        print(col)\n",
    "        if Na_list==[]:\n",
    "            Na_list = df[col].str.contains('none|N/A', case=False).tolist()\n",
    "        else:\n",
    "            Na_list = [x or y for x, y in zip(Na_list, df[col].str.contains('none|N/A', case=False).tolist())]\n",
    "    print(sum(Na_list))\n",
    "df = df[~np.array(Na_list)]\n",
    "df.to_csv('/Users/xuhuizhou/Projects/context-sbf/data/inference_data/adversarial_contexts_statements/mAgr_contexts_cleaned.csv', index=False)\n"
   ]
  },
  {
   "attachments": {},
   "cell_type": "markdown",
   "metadata": {},
   "source": [
    "## Transform the adversarial examples into a normal format"
   ]
  },
  {
   "cell_type": "code",
   "execution_count": 10,
   "metadata": {},
   "outputs": [
    {
     "name": "stdout",
     "output_type": "stream",
     "text": [
      "1272\n"
     ]
    }
   ],
   "source": [
    "df = pd.read_csv('/Users/xuhuizhou/Projects/context-sbf/data/inference_data/adversarial_contexts_statements/mAgr_contexts_cleaned.csv')\n",
    "print(len(df))"
   ]
  },
  {
   "cell_type": "code",
   "execution_count": 7,
   "metadata": {},
   "outputs": [
    {
     "name": "stderr",
     "output_type": "stream",
     "text": [
      "/var/folders/gx/1s72qn6d30qc9jq9tywjml2m0000gn/T/ipykernel_58145/3696636120.py:3: SettingWithCopyWarning: \n",
      "A value is trying to be set on a copy of a slice from a DataFrame.\n",
      "Try using .loc[row_indexer,col_indexer] = value instead\n",
      "\n",
      "See the caveats in the documentation: https://pandas.pydata.org/pandas-docs/stable/user_guide/indexing.html#returning-a-view-versus-a-copy\n",
      "  df_harmless['moreOff'] = [-1]*len(df_harmless)\n",
      "/var/folders/gx/1s72qn6d30qc9jq9tywjml2m0000gn/T/ipykernel_58145/3696636120.py:4: SettingWithCopyWarning: \n",
      "A value is trying to be set on a copy of a slice from a DataFrame\n",
      "\n",
      "See the caveats in the documentation: https://pandas.pydata.org/pandas-docs/stable/user_guide/indexing.html#returning-a-view-versus-a-copy\n",
      "  df_harmless.rename(columns={'harmless_situationalContext': 'situationalContext', 'harmless_speakerIdentity': 'speakerIdentity', 'harmless_listenerIdentity': 'listenerIdentity'}, inplace=True)\n",
      "/var/folders/gx/1s72qn6d30qc9jq9tywjml2m0000gn/T/ipykernel_58145/3696636120.py:5: SettingWithCopyWarning: \n",
      "A value is trying to be set on a copy of a slice from a DataFrame.\n",
      "Try using .loc[row_indexer,col_indexer] = value instead\n",
      "\n",
      "See the caveats in the documentation: https://pandas.pydata.org/pandas-docs/stable/user_guide/indexing.html#returning-a-view-versus-a-copy\n",
      "  df_offensive['moreOff'] = [1]*len(df_offensive)\n",
      "/var/folders/gx/1s72qn6d30qc9jq9tywjml2m0000gn/T/ipykernel_58145/3696636120.py:6: SettingWithCopyWarning: \n",
      "A value is trying to be set on a copy of a slice from a DataFrame\n",
      "\n",
      "See the caveats in the documentation: https://pandas.pydata.org/pandas-docs/stable/user_guide/indexing.html#returning-a-view-versus-a-copy\n",
      "  df_offensive.rename(columns={'offensive_situationalContext': 'situationalContext', 'offensive_speakerIdentity': 'speakerIdentity', 'offensive_listenerIdentity': 'listenerIdentity'}, inplace=True)\n"
     ]
    }
   ],
   "source": [
    "df_harmless = df[['caption','tags', 'quote', 'examples', 'statement', 'harmless_situationalContext', 'harmless_speakerIdentity', 'harmless_listenerIdentity']]\n",
    "df_offensive = df[['caption','tags', 'quote', 'examples', 'statement', 'offensive_situationalContext', 'offensive_speakerIdentity', 'offensive_listenerIdentity']]\n",
    "df_harmless['moreOff'] = [-1]*len(df_harmless)\n",
    "df_harmless.rename(columns={'harmless_situationalContext': 'situationalContext', 'harmless_speakerIdentity': 'speakerIdentity', 'harmless_listenerIdentity': 'listenerIdentity'}, inplace=True)\n",
    "df_offensive['moreOff'] = [1]*len(df_offensive)\n",
    "df_offensive.rename(columns={'offensive_situationalContext': 'situationalContext', 'offensive_speakerIdentity': 'speakerIdentity', 'offensive_listenerIdentity': 'listenerIdentity'}, inplace=True)\n",
    "df_overall = pd.concat([df_harmless, df_offensive], axis=0)"
   ]
  },
  {
   "cell_type": "code",
   "execution_count": 11,
   "metadata": {},
   "outputs": [
    {
     "name": "stdout",
     "output_type": "stream",
     "text": [
      "2544\n"
     ]
    }
   ],
   "source": [
    "df_overall\n",
    "print(len(df_overall))\n",
    "df_overall.to_csv('/Users/xuhuizhou/Projects/context-sbf/data/inference_data/adversarial_contexts_statements/mAgr_contexts_single.csv', index=False)"
   ]
  }
 ],
 "metadata": {
  "kernelspec": {
   "display_name": "Python 3.8.13 ('context-sbf')",
   "language": "python",
   "name": "python3"
  },
  "language_info": {
   "codemirror_mode": {
    "name": "ipython",
    "version": 3
   },
   "file_extension": ".py",
   "mimetype": "text/x-python",
   "name": "python",
   "nbconvert_exporter": "python",
   "pygments_lexer": "ipython3",
   "version": "3.8.13"
  },
  "orig_nbformat": 4,
  "vscode": {
   "interpreter": {
    "hash": "a6d121575a8ec75d1da765bafdcda4dc8ce9d5828250d3ae61b2c01566c57469"
   }
  }
 },
 "nbformat": 4,
 "nbformat_minor": 2
}
